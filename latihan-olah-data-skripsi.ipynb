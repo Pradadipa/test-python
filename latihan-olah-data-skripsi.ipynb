{
 "cells": [
  {
   "cell_type": "markdown",
   "metadata": {},
   "source": [
    "#Import library"
   ]
  },
  {
   "cell_type": "code",
   "execution_count": 8,
   "metadata": {},
   "outputs": [],
   "source": [
    "import os\n",
    "import pandas as pd              # Library used for working with data sets and perform data analysis.\n",
    "import numpy as np                  # To perform mathematical operasion and statistics\n",
    "from datetime import datetime       # Used to perform dates and time manipulation\n"
   ]
  },
  {
   "cell_type": "markdown",
   "metadata": {},
   "source": [
    "#Import dataset"
   ]
  },
  {
   "cell_type": "code",
   "execution_count": 29,
   "metadata": {},
   "outputs": [
    {
     "data": {
      "text/html": [
       "<div>\n",
       "<style scoped>\n",
       "    .dataframe tbody tr th:only-of-type {\n",
       "        vertical-align: middle;\n",
       "    }\n",
       "\n",
       "    .dataframe tbody tr th {\n",
       "        vertical-align: top;\n",
       "    }\n",
       "\n",
       "    .dataframe thead th {\n",
       "        text-align: right;\n",
       "    }\n",
       "</style>\n",
       "<table border=\"1\" class=\"dataframe\">\n",
       "  <thead>\n",
       "    <tr style=\"text-align: right;\">\n",
       "      <th></th>\n",
       "      <th>userName</th>\n",
       "      <th>score</th>\n",
       "      <th>at</th>\n",
       "      <th>content</th>\n",
       "    </tr>\n",
       "  </thead>\n",
       "  <tbody>\n",
       "    <tr>\n",
       "      <th>0</th>\n",
       "      <td>Achsan Ansori</td>\n",
       "      <td>2</td>\n",
       "      <td>10/21/2023 15:36</td>\n",
       "      <td>21/10/2023, saya update ke versi 7.2.0 perform...</td>\n",
       "    </tr>\n",
       "    <tr>\n",
       "      <th>1</th>\n",
       "      <td>Yanuar Syam</td>\n",
       "      <td>1</td>\n",
       "      <td>10/27/2023 10:07</td>\n",
       "      <td>Setelah update malah jadi force close terus. S...</td>\n",
       "    </tr>\n",
       "    <tr>\n",
       "      <th>2</th>\n",
       "      <td>Farhan Alfariqi</td>\n",
       "      <td>3</td>\n",
       "      <td>10/29/2023 18:38</td>\n",
       "      <td>Menurut saya, aplikasi sekarang sangat lambat....</td>\n",
       "    </tr>\n",
       "    <tr>\n",
       "      <th>3</th>\n",
       "      <td>Yeshua's Princess</td>\n",
       "      <td>1</td>\n",
       "      <td>10/28/2023 16:06</td>\n",
       "      <td>Perasaan 17 Agustus udah lama lewat, koq tampi...</td>\n",
       "    </tr>\n",
       "    <tr>\n",
       "      <th>4</th>\n",
       "      <td>Fernando solafide Napitupulu</td>\n",
       "      <td>2</td>\n",
       "      <td>10/23/2023 22:23</td>\n",
       "      <td>Paket kuota Apps katanya akan aktif jika paket...</td>\n",
       "    </tr>\n",
       "  </tbody>\n",
       "</table>\n",
       "</div>"
      ],
      "text/plain": [
       "                       userName  score                at  \\\n",
       "0                 Achsan Ansori      2  10/21/2023 15:36   \n",
       "1                   Yanuar Syam      1  10/27/2023 10:07   \n",
       "2               Farhan Alfariqi      3  10/29/2023 18:38   \n",
       "3             Yeshua's Princess      1  10/28/2023 16:06   \n",
       "4  Fernando solafide Napitupulu      2  10/23/2023 22:23   \n",
       "\n",
       "                                             content  \n",
       "0  21/10/2023, saya update ke versi 7.2.0 perform...  \n",
       "1  Setelah update malah jadi force close terus. S...  \n",
       "2  Menurut saya, aplikasi sekarang sangat lambat....  \n",
       "3  Perasaan 17 Agustus udah lama lewat, koq tampi...  \n",
       "4  Paket kuota Apps katanya akan aktif jika paket...  "
      ]
     },
     "execution_count": 29,
     "metadata": {},
     "output_type": "execute_result"
    }
   ],
   "source": [
    "path = r\"C:\\Users\\prada\\Documents\\Latihan\\Latihan_NLP\\data\\scrapped_data2.csv\"\n",
    "df = pd.read_csv(path, encoding='latin1')\n",
    "df.head()"
   ]
  },
  {
   "cell_type": "markdown",
   "metadata": {},
   "source": [
    "#Data Preparation"
   ]
  },
  {
   "cell_type": "code",
   "execution_count": 30,
   "metadata": {},
   "outputs": [],
   "source": [
    "df_cp = df"
   ]
  },
  {
   "cell_type": "markdown",
   "metadata": {},
   "source": [
    "##Data cleanining"
   ]
  },
  {
   "cell_type": "markdown",
   "metadata": {},
   "source": [
    "memberikan label jika bintang <= 2 maka negatif jika > 3 maka positif, bintang 3 tidak dipakai"
   ]
  },
  {
   "cell_type": "code",
   "execution_count": 31,
   "metadata": {},
   "outputs": [
    {
     "data": {
      "text/html": [
       "<div>\n",
       "<style scoped>\n",
       "    .dataframe tbody tr th:only-of-type {\n",
       "        vertical-align: middle;\n",
       "    }\n",
       "\n",
       "    .dataframe tbody tr th {\n",
       "        vertical-align: top;\n",
       "    }\n",
       "\n",
       "    .dataframe thead th {\n",
       "        text-align: right;\n",
       "    }\n",
       "</style>\n",
       "<table border=\"1\" class=\"dataframe\">\n",
       "  <thead>\n",
       "    <tr style=\"text-align: right;\">\n",
       "      <th></th>\n",
       "      <th>userName</th>\n",
       "      <th>score</th>\n",
       "      <th>at</th>\n",
       "      <th>content</th>\n",
       "      <th>label</th>\n",
       "    </tr>\n",
       "  </thead>\n",
       "  <tbody>\n",
       "    <tr>\n",
       "      <th>0</th>\n",
       "      <td>Achsan Ansori</td>\n",
       "      <td>2</td>\n",
       "      <td>10/21/2023 15:36</td>\n",
       "      <td>21/10/2023, saya update ke versi 7.2.0 perform...</td>\n",
       "      <td>negative</td>\n",
       "    </tr>\n",
       "    <tr>\n",
       "      <th>1</th>\n",
       "      <td>Yanuar Syam</td>\n",
       "      <td>1</td>\n",
       "      <td>10/27/2023 10:07</td>\n",
       "      <td>Setelah update malah jadi force close terus. S...</td>\n",
       "      <td>negative</td>\n",
       "    </tr>\n",
       "    <tr>\n",
       "      <th>2</th>\n",
       "      <td>Farhan Alfariqi</td>\n",
       "      <td>3</td>\n",
       "      <td>10/29/2023 18:38</td>\n",
       "      <td>Menurut saya, aplikasi sekarang sangat lambat....</td>\n",
       "      <td>Unknown</td>\n",
       "    </tr>\n",
       "    <tr>\n",
       "      <th>3</th>\n",
       "      <td>Yeshua's Princess</td>\n",
       "      <td>1</td>\n",
       "      <td>10/28/2023 16:06</td>\n",
       "      <td>Perasaan 17 Agustus udah lama lewat, koq tampi...</td>\n",
       "      <td>negative</td>\n",
       "    </tr>\n",
       "    <tr>\n",
       "      <th>4</th>\n",
       "      <td>Fernando solafide Napitupulu</td>\n",
       "      <td>2</td>\n",
       "      <td>10/23/2023 22:23</td>\n",
       "      <td>Paket kuota Apps katanya akan aktif jika paket...</td>\n",
       "      <td>negative</td>\n",
       "    </tr>\n",
       "  </tbody>\n",
       "</table>\n",
       "</div>"
      ],
      "text/plain": [
       "                       userName  score                at  \\\n",
       "0                 Achsan Ansori      2  10/21/2023 15:36   \n",
       "1                   Yanuar Syam      1  10/27/2023 10:07   \n",
       "2               Farhan Alfariqi      3  10/29/2023 18:38   \n",
       "3             Yeshua's Princess      1  10/28/2023 16:06   \n",
       "4  Fernando solafide Napitupulu      2  10/23/2023 22:23   \n",
       "\n",
       "                                             content     label  \n",
       "0  21/10/2023, saya update ke versi 7.2.0 perform...  negative  \n",
       "1  Setelah update malah jadi force close terus. S...  negative  \n",
       "2  Menurut saya, aplikasi sekarang sangat lambat....   Unknown  \n",
       "3  Perasaan 17 Agustus udah lama lewat, koq tampi...  negative  \n",
       "4  Paket kuota Apps katanya akan aktif jika paket...  negative  "
      ]
     },
     "execution_count": 31,
     "metadata": {},
     "output_type": "execute_result"
    }
   ],
   "source": [
    "#membuat kondisi\n",
    "conditions = [\n",
    "    (df_cp['score'] > 3),\n",
    "    (df_cp['score'] < 3)\n",
    "]\n",
    "#membuat kategori\n",
    "categories = ['positive', 'negative']\n",
    "#memberikan kategori ke data\n",
    "df_cp['label'] = np.select(conditions, categories, default='Unknown')\n",
    "df_cp.head()"
   ]
  },
  {
   "cell_type": "markdown",
   "metadata": {},
   "source": [
    "menghapus score bintang 3"
   ]
  },
  {
   "cell_type": "code",
   "execution_count": 32,
   "metadata": {},
   "outputs": [
    {
     "data": {
      "text/html": [
       "<div>\n",
       "<style scoped>\n",
       "    .dataframe tbody tr th:only-of-type {\n",
       "        vertical-align: middle;\n",
       "    }\n",
       "\n",
       "    .dataframe tbody tr th {\n",
       "        vertical-align: top;\n",
       "    }\n",
       "\n",
       "    .dataframe thead th {\n",
       "        text-align: right;\n",
       "    }\n",
       "</style>\n",
       "<table border=\"1\" class=\"dataframe\">\n",
       "  <thead>\n",
       "    <tr style=\"text-align: right;\">\n",
       "      <th></th>\n",
       "      <th>userName</th>\n",
       "      <th>score</th>\n",
       "      <th>at</th>\n",
       "      <th>content</th>\n",
       "      <th>label</th>\n",
       "    </tr>\n",
       "  </thead>\n",
       "  <tbody>\n",
       "    <tr>\n",
       "      <th>0</th>\n",
       "      <td>Achsan Ansori</td>\n",
       "      <td>2</td>\n",
       "      <td>10/21/2023 15:36</td>\n",
       "      <td>21/10/2023, saya update ke versi 7.2.0 perform...</td>\n",
       "      <td>negative</td>\n",
       "    </tr>\n",
       "    <tr>\n",
       "      <th>1</th>\n",
       "      <td>Yanuar Syam</td>\n",
       "      <td>1</td>\n",
       "      <td>10/27/2023 10:07</td>\n",
       "      <td>Setelah update malah jadi force close terus. S...</td>\n",
       "      <td>negative</td>\n",
       "    </tr>\n",
       "    <tr>\n",
       "      <th>3</th>\n",
       "      <td>Yeshua's Princess</td>\n",
       "      <td>1</td>\n",
       "      <td>10/28/2023 16:06</td>\n",
       "      <td>Perasaan 17 Agustus udah lama lewat, koq tampi...</td>\n",
       "      <td>negative</td>\n",
       "    </tr>\n",
       "    <tr>\n",
       "      <th>4</th>\n",
       "      <td>Fernando solafide Napitupulu</td>\n",
       "      <td>2</td>\n",
       "      <td>10/23/2023 22:23</td>\n",
       "      <td>Paket kuota Apps katanya akan aktif jika paket...</td>\n",
       "      <td>negative</td>\n",
       "    </tr>\n",
       "    <tr>\n",
       "      <th>5</th>\n",
       "      <td>Anwar</td>\n",
       "      <td>1</td>\n",
       "      <td>10/21/2023 22:25</td>\n",
       "      <td>1. Setelah update, aplikasi semakin berat. 2. ...</td>\n",
       "      <td>negative</td>\n",
       "    </tr>\n",
       "  </tbody>\n",
       "</table>\n",
       "</div>"
      ],
      "text/plain": [
       "                       userName  score                at  \\\n",
       "0                 Achsan Ansori      2  10/21/2023 15:36   \n",
       "1                   Yanuar Syam      1  10/27/2023 10:07   \n",
       "3             Yeshua's Princess      1  10/28/2023 16:06   \n",
       "4  Fernando solafide Napitupulu      2  10/23/2023 22:23   \n",
       "5                         Anwar      1  10/21/2023 22:25   \n",
       "\n",
       "                                             content     label  \n",
       "0  21/10/2023, saya update ke versi 7.2.0 perform...  negative  \n",
       "1  Setelah update malah jadi force close terus. S...  negative  \n",
       "3  Perasaan 17 Agustus udah lama lewat, koq tampi...  negative  \n",
       "4  Paket kuota Apps katanya akan aktif jika paket...  negative  \n",
       "5  1. Setelah update, aplikasi semakin berat. 2. ...  negative  "
      ]
     },
     "execution_count": 32,
     "metadata": {},
     "output_type": "execute_result"
    }
   ],
   "source": [
    "df_cp = df_cp[df_cp['score'] != 3]\n",
    "df_cp.head()"
   ]
  },
  {
   "cell_type": "markdown",
   "metadata": {},
   "source": [
    "menghapus kolom username, score, dan at"
   ]
  },
  {
   "cell_type": "code",
   "execution_count": 33,
   "metadata": {},
   "outputs": [],
   "source": [
    "df_edit = df_cp[['content', 'label']]"
   ]
  },
  {
   "cell_type": "code",
   "execution_count": 34,
   "metadata": {},
   "outputs": [
    {
     "data": {
      "text/html": [
       "<div>\n",
       "<style scoped>\n",
       "    .dataframe tbody tr th:only-of-type {\n",
       "        vertical-align: middle;\n",
       "    }\n",
       "\n",
       "    .dataframe tbody tr th {\n",
       "        vertical-align: top;\n",
       "    }\n",
       "\n",
       "    .dataframe thead th {\n",
       "        text-align: right;\n",
       "    }\n",
       "</style>\n",
       "<table border=\"1\" class=\"dataframe\">\n",
       "  <thead>\n",
       "    <tr style=\"text-align: right;\">\n",
       "      <th></th>\n",
       "      <th>content</th>\n",
       "      <th>label</th>\n",
       "    </tr>\n",
       "  </thead>\n",
       "  <tbody>\n",
       "    <tr>\n",
       "      <th>0</th>\n",
       "      <td>21/10/2023, saya update ke versi 7.2.0 perform...</td>\n",
       "      <td>negative</td>\n",
       "    </tr>\n",
       "    <tr>\n",
       "      <th>1</th>\n",
       "      <td>Setelah update malah jadi force close terus. S...</td>\n",
       "      <td>negative</td>\n",
       "    </tr>\n",
       "    <tr>\n",
       "      <th>3</th>\n",
       "      <td>Perasaan 17 Agustus udah lama lewat, koq tampi...</td>\n",
       "      <td>negative</td>\n",
       "    </tr>\n",
       "    <tr>\n",
       "      <th>4</th>\n",
       "      <td>Paket kuota Apps katanya akan aktif jika paket...</td>\n",
       "      <td>negative</td>\n",
       "    </tr>\n",
       "    <tr>\n",
       "      <th>5</th>\n",
       "      <td>1. Setelah update, aplikasi semakin berat. 2. ...</td>\n",
       "      <td>negative</td>\n",
       "    </tr>\n",
       "  </tbody>\n",
       "</table>\n",
       "</div>"
      ],
      "text/plain": [
       "                                             content     label\n",
       "0  21/10/2023, saya update ke versi 7.2.0 perform...  negative\n",
       "1  Setelah update malah jadi force close terus. S...  negative\n",
       "3  Perasaan 17 Agustus udah lama lewat, koq tampi...  negative\n",
       "4  Paket kuota Apps katanya akan aktif jika paket...  negative\n",
       "5  1. Setelah update, aplikasi semakin berat. 2. ...  negative"
      ]
     },
     "execution_count": 34,
     "metadata": {},
     "output_type": "execute_result"
    }
   ],
   "source": [
    "df_edit.head()"
   ]
  },
  {
   "cell_type": "code",
   "execution_count": 35,
   "metadata": {},
   "outputs": [
    {
     "name": "stderr",
     "output_type": "stream",
     "text": [
      "C:\\Users\\prada\\AppData\\Local\\Temp\\ipykernel_2104\\2802504994.py:1: SettingWithCopyWarning: \n",
      "A value is trying to be set on a copy of a slice from a DataFrame.\n",
      "Try using .loc[row_indexer,col_indexer] = value instead\n",
      "\n",
      "See the caveats in the documentation: https://pandas.pydata.org/pandas-docs/stable/user_guide/indexing.html#returning-a-view-versus-a-copy\n",
      "  df_edit['message_len'] = df_edit['content'].apply(lambda x: len(x.split(' ')))\n"
     ]
    },
    {
     "data": {
      "text/html": [
       "<div>\n",
       "<style scoped>\n",
       "    .dataframe tbody tr th:only-of-type {\n",
       "        vertical-align: middle;\n",
       "    }\n",
       "\n",
       "    .dataframe tbody tr th {\n",
       "        vertical-align: top;\n",
       "    }\n",
       "\n",
       "    .dataframe thead th {\n",
       "        text-align: right;\n",
       "    }\n",
       "</style>\n",
       "<table border=\"1\" class=\"dataframe\">\n",
       "  <thead>\n",
       "    <tr style=\"text-align: right;\">\n",
       "      <th></th>\n",
       "      <th>content</th>\n",
       "      <th>label</th>\n",
       "      <th>message_len</th>\n",
       "    </tr>\n",
       "  </thead>\n",
       "  <tbody>\n",
       "    <tr>\n",
       "      <th>0</th>\n",
       "      <td>21/10/2023, saya update ke versi 7.2.0 perform...</td>\n",
       "      <td>negative</td>\n",
       "      <td>70</td>\n",
       "    </tr>\n",
       "    <tr>\n",
       "      <th>1</th>\n",
       "      <td>Setelah update malah jadi force close terus. S...</td>\n",
       "      <td>negative</td>\n",
       "      <td>49</td>\n",
       "    </tr>\n",
       "    <tr>\n",
       "      <th>3</th>\n",
       "      <td>Perasaan 17 Agustus udah lama lewat, koq tampi...</td>\n",
       "      <td>negative</td>\n",
       "      <td>48</td>\n",
       "    </tr>\n",
       "    <tr>\n",
       "      <th>4</th>\n",
       "      <td>Paket kuota Apps katanya akan aktif jika paket...</td>\n",
       "      <td>negative</td>\n",
       "      <td>38</td>\n",
       "    </tr>\n",
       "    <tr>\n",
       "      <th>5</th>\n",
       "      <td>1. Setelah update, aplikasi semakin berat. 2. ...</td>\n",
       "      <td>negative</td>\n",
       "      <td>75</td>\n",
       "    </tr>\n",
       "  </tbody>\n",
       "</table>\n",
       "</div>"
      ],
      "text/plain": [
       "                                             content     label  message_len\n",
       "0  21/10/2023, saya update ke versi 7.2.0 perform...  negative           70\n",
       "1  Setelah update malah jadi force close terus. S...  negative           49\n",
       "3  Perasaan 17 Agustus udah lama lewat, koq tampi...  negative           48\n",
       "4  Paket kuota Apps katanya akan aktif jika paket...  negative           38\n",
       "5  1. Setelah update, aplikasi semakin berat. 2. ...  negative           75"
      ]
     },
     "execution_count": 35,
     "metadata": {},
     "output_type": "execute_result"
    }
   ],
   "source": [
    "df_edit['message_len'] = df_edit['content'].apply(lambda x: len(x.split(' ')))\n",
    "df_edit.head()"
   ]
  },
  {
   "cell_type": "markdown",
   "metadata": {},
   "source": [
    "menglihat keseimbangan data"
   ]
  },
  {
   "cell_type": "code",
   "execution_count": 36,
   "metadata": {},
   "outputs": [
    {
     "data": {
      "text/plain": [
       "array([841,  88], dtype=int64)"
      ]
     },
     "execution_count": 36,
     "metadata": {},
     "output_type": "execute_result"
    }
   ],
   "source": [
    "balance_counts = df_edit.groupby('label')['label'].agg('count').values\n",
    "balance_counts"
   ]
  },
  {
   "cell_type": "markdown",
   "metadata": {},
   "source": [
    "#membersihkan data dari karakter yang tidak digunakan"
   ]
  },
  {
   "cell_type": "code",
   "execution_count": 37,
   "metadata": {},
   "outputs": [],
   "source": [
    "import re\n",
    "import string\n",
    "\n",
    "def clean_text(text):\n",
    "    '''Make text lowercase, remove text in square brackets,remove links,remove punctuation\n",
    "    and remove words containing numbers.'''\n",
    "    text = str(text).lower()\n",
    "    text = re.sub('\\[.*?\\]', '', text)\n",
    "    text = re.sub('https?://\\S+|www\\.\\S+', '', text)\n",
    "    text = re.sub('<.*?>+', '', text)\n",
    "    text = re.sub('[%s]' % re.escape(string.punctuation), '', text)\n",
    "    text = re.sub('\\n', '', text)\n",
    "    text = re.sub('\\w*\\d\\w*', '', text)\n",
    "    return text"
   ]
  },
  {
   "cell_type": "code",
   "execution_count": 38,
   "metadata": {},
   "outputs": [
    {
     "name": "stderr",
     "output_type": "stream",
     "text": [
      "C:\\Users\\prada\\AppData\\Local\\Temp\\ipykernel_2104\\900754444.py:1: SettingWithCopyWarning: \n",
      "A value is trying to be set on a copy of a slice from a DataFrame.\n",
      "Try using .loc[row_indexer,col_indexer] = value instead\n",
      "\n",
      "See the caveats in the documentation: https://pandas.pydata.org/pandas-docs/stable/user_guide/indexing.html#returning-a-view-versus-a-copy\n",
      "  df_edit['message_clean'] = df_edit['content'].apply(clean_text)\n"
     ]
    },
    {
     "data": {
      "text/html": [
       "<div>\n",
       "<style scoped>\n",
       "    .dataframe tbody tr th:only-of-type {\n",
       "        vertical-align: middle;\n",
       "    }\n",
       "\n",
       "    .dataframe tbody tr th {\n",
       "        vertical-align: top;\n",
       "    }\n",
       "\n",
       "    .dataframe thead th {\n",
       "        text-align: right;\n",
       "    }\n",
       "</style>\n",
       "<table border=\"1\" class=\"dataframe\">\n",
       "  <thead>\n",
       "    <tr style=\"text-align: right;\">\n",
       "      <th></th>\n",
       "      <th>content</th>\n",
       "      <th>label</th>\n",
       "      <th>message_len</th>\n",
       "      <th>message_clean</th>\n",
       "    </tr>\n",
       "  </thead>\n",
       "  <tbody>\n",
       "    <tr>\n",
       "      <th>0</th>\n",
       "      <td>21/10/2023, saya update ke versi 7.2.0 perform...</td>\n",
       "      <td>negative</td>\n",
       "      <td>70</td>\n",
       "      <td>saya update ke versi  performa aplikasi masih...</td>\n",
       "    </tr>\n",
       "    <tr>\n",
       "      <th>1</th>\n",
       "      <td>Setelah update malah jadi force close terus. S...</td>\n",
       "      <td>negative</td>\n",
       "      <td>49</td>\n",
       "      <td>setelah update malah jadi force close terus se...</td>\n",
       "    </tr>\n",
       "    <tr>\n",
       "      <th>3</th>\n",
       "      <td>Perasaan 17 Agustus udah lama lewat, koq tampi...</td>\n",
       "      <td>negative</td>\n",
       "      <td>48</td>\n",
       "      <td>perasaan  agustus udah lama lewat koq tampilan...</td>\n",
       "    </tr>\n",
       "    <tr>\n",
       "      <th>4</th>\n",
       "      <td>Paket kuota Apps katanya akan aktif jika paket...</td>\n",
       "      <td>negative</td>\n",
       "      <td>38</td>\n",
       "      <td>paket kuota apps katanya akan aktif jika paket...</td>\n",
       "    </tr>\n",
       "    <tr>\n",
       "      <th>5</th>\n",
       "      <td>1. Setelah update, aplikasi semakin berat. 2. ...</td>\n",
       "      <td>negative</td>\n",
       "      <td>75</td>\n",
       "      <td>setelah update aplikasi semakin berat  progra...</td>\n",
       "    </tr>\n",
       "  </tbody>\n",
       "</table>\n",
       "</div>"
      ],
      "text/plain": [
       "                                             content     label  message_len  \\\n",
       "0  21/10/2023, saya update ke versi 7.2.0 perform...  negative           70   \n",
       "1  Setelah update malah jadi force close terus. S...  negative           49   \n",
       "3  Perasaan 17 Agustus udah lama lewat, koq tampi...  negative           48   \n",
       "4  Paket kuota Apps katanya akan aktif jika paket...  negative           38   \n",
       "5  1. Setelah update, aplikasi semakin berat. 2. ...  negative           75   \n",
       "\n",
       "                                       message_clean  \n",
       "0   saya update ke versi  performa aplikasi masih...  \n",
       "1  setelah update malah jadi force close terus se...  \n",
       "3  perasaan  agustus udah lama lewat koq tampilan...  \n",
       "4  paket kuota apps katanya akan aktif jika paket...  \n",
       "5   setelah update aplikasi semakin berat  progra...  "
      ]
     },
     "execution_count": 38,
     "metadata": {},
     "output_type": "execute_result"
    }
   ],
   "source": [
    "df_edit['message_clean'] = df_edit['content'].apply(clean_text)\n",
    "df_edit.head()"
   ]
  },
  {
   "cell_type": "code",
   "execution_count": null,
   "metadata": {},
   "outputs": [],
   "source": []
  }
 ],
 "metadata": {
  "kernelspec": {
   "display_name": "Python 3",
   "language": "python",
   "name": "python3"
  },
  "language_info": {
   "codemirror_mode": {
    "name": "ipython",
    "version": 3
   },
   "file_extension": ".py",
   "mimetype": "text/x-python",
   "name": "python",
   "nbconvert_exporter": "python",
   "pygments_lexer": "ipython3",
   "version": "3.10.10"
  }
 },
 "nbformat": 4,
 "nbformat_minor": 2
}
